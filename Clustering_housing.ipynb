{
  "nbformat": 4,
  "nbformat_minor": 0,
  "metadata": {
    "colab": {
      "name": "Clustering_housing.ipynb",
      "provenance": [],
      "include_colab_link": true
    },
    "kernelspec": {
      "name": "python3",
      "display_name": "Python 3"
    }
  },
  "cells": [
    {
      "cell_type": "markdown",
      "metadata": {
        "id": "view-in-github",
        "colab_type": "text"
      },
      "source": [
        "<a href=\"https://colab.research.google.com/github/diefgallegorio/Entrega_clustering/blob/master/Clustering_housing.ipynb\" target=\"_parent\"><img src=\"https://colab.research.google.com/assets/colab-badge.svg\" alt=\"Open In Colab\"/></a>"
      ]
    },
    {
      "cell_type": "markdown",
      "metadata": {
        "id": "IxSVTYI-vjSh",
        "colab_type": "text"
      },
      "source": [
        "# **Clustering - Base de datos Housing**\n",
        "\n",
        "### Procedimientos de importes de librerías y carga de la BD"
      ]
    },
    {
      "cell_type": "code",
      "metadata": {
        "id": "Z8KRB8_8J32c",
        "colab_type": "code",
        "outputId": "e8706899-d6ab-444c-a91b-96106ce73881",
        "colab": {
          "base_uri": "https://localhost:8080/",
          "height": 269
        }
      },
      "source": [
        "import pandas as pd\n",
        "import numpy as np\n",
        "import matplotlib.pyplot as plt\n",
        "import warnings\n",
        "warnings.filterwarnings(\"ignore\")\n",
        "\n",
        "# para acceder a archivos desde google drive en google colaboratory\n",
        "# acceso a google drive\n",
        "\n",
        "from pydrive.auth import GoogleAuth\n",
        "from pydrive.drive import GoogleDrive\n",
        "from google.colab import auth\n",
        "from oauth2client.client import GoogleCredentials\n",
        "\n",
        "auth.authenticate_user()\n",
        "gauth = GoogleAuth()\n",
        "gauth.credentials = GoogleCredentials.get_application_default()\n",
        "drive = GoogleDrive(gauth)\n",
        "\n",
        "#Importo base de datos housing\n",
        "\n",
        "housing = '1ruQwtMNWfV2zXdntUSPUsjk2fUrskhHM'\n",
        "downloaded = drive.CreateFile({'id': housing})\n",
        "downloaded.GetContentFile('housing.csv') \n",
        "\n",
        "#Importo archivo de funciones para housing\n",
        "\n",
        "Misfunciones = '1aRVK0tJxxxhqKdApjTIBwrD69iOCQahP'\n",
        "downloaded = drive.CreateFile({'id': Misfunciones})\n",
        "downloaded.GetContentFile('Misfunciones.py') \n",
        "\n",
        "#Importo la función declarada en el archivo externo\n",
        "\n",
        "from Misfunciones import pre_exploratorio_housing\n",
        "\n",
        "#Con pandas leo la base de datos y pruebo que cargue adecuadamente\n",
        "Xdata = pd.read_csv('housing.csv')\n",
        "Xdata.info()"
      ],
      "execution_count": 0,
      "outputs": [
        {
          "output_type": "stream",
          "text": [
            "<class 'pandas.core.frame.DataFrame'>\n",
            "RangeIndex: 20640 entries, 0 to 20639\n",
            "Data columns (total 10 columns):\n",
            "longitude             20640 non-null float64\n",
            "latitude              20640 non-null float64\n",
            "housing_median_age    20640 non-null float64\n",
            "total_rooms           20640 non-null float64\n",
            "total_bedrooms        20433 non-null float64\n",
            "population            20640 non-null float64\n",
            "households            20640 non-null float64\n",
            "median_income         20640 non-null float64\n",
            "median_house_value    20640 non-null float64\n",
            "ocean_proximity       20640 non-null object\n",
            "dtypes: float64(9), object(1)\n",
            "memory usage: 1.6+ MB\n"
          ],
          "name": "stdout"
        }
      ]
    },
    {
      "cell_type": "markdown",
      "metadata": {
        "id": "c1kASXbiXleF",
        "colab_type": "text"
      },
      "source": [
        "#Partición BD\n",
        "### Partición de la BD para entrenamiento y para testeo a partir de sklearn"
      ]
    },
    {
      "cell_type": "code",
      "metadata": {
        "id": "YjZONWCp0FwS",
        "colab_type": "code",
        "outputId": "0a637019-aba3-4bc9-e610-2a9faf900354",
        "colab": {
          "base_uri": "https://localhost:8080/",
          "height": 269
        }
      },
      "source": [
        "from sklearn.model_selection import train_test_split\n",
        "\n",
        "Xtrain, Xtest = train_test_split(Xdata, test_size=0.3)\n",
        "Xtrain.info()"
      ],
      "execution_count": 0,
      "outputs": [
        {
          "output_type": "stream",
          "text": [
            "<class 'pandas.core.frame.DataFrame'>\n",
            "Int64Index: 14448 entries, 6345 to 4472\n",
            "Data columns (total 10 columns):\n",
            "longitude             14448 non-null float64\n",
            "latitude              14448 non-null float64\n",
            "housing_median_age    14448 non-null float64\n",
            "total_rooms           14448 non-null float64\n",
            "total_bedrooms        14311 non-null float64\n",
            "population            14448 non-null float64\n",
            "households            14448 non-null float64\n",
            "median_income         14448 non-null float64\n",
            "median_house_value    14448 non-null float64\n",
            "ocean_proximity       14448 non-null object\n",
            "dtypes: float64(9), object(1)\n",
            "memory usage: 1.2+ MB\n"
          ],
          "name": "stdout"
        }
      ]
    },
    {
      "cell_type": "code",
      "metadata": {
        "id": "mxH-hPFU6VzL",
        "colab_type": "code",
        "outputId": "a40064e1-4c97-4ddd-ad28-5a9434cba000",
        "colab": {
          "base_uri": "https://localhost:8080/",
          "height": 252
        }
      },
      "source": [
        "#Completo faltantes con la función importada anteriormente\n",
        "\n",
        "col_sal='median_house_value'\n",
        "col_num=['longitude','latitude','housing_median_age','total_rooms','total_bedrooms',\n",
        "        'population','households','median_income']\n",
        "col_cat=['ocean_proximity']\n",
        "\n",
        "Xtrain, Ytrain= pre_exploratorio_housing(Xtrain,col_sal,col_num,col_cat,estra_num='median',estra_cat='most_frequent')\n",
        "Xtest, Ytest= pre_exploratorio_housing(Xtest,col_sal,col_num,col_cat,estra_num='median',estra_cat='most_frequent')\n",
        "\n",
        "#Codifico ordinalmente la columna categórica\n",
        "\n",
        "from sklearn.preprocessing import OrdinalEncoder\n",
        "\n",
        "codificador = OrdinalEncoder()\n",
        "Xtrain['ocean_proximity'].value_counts()\n",
        "Xtrain['ocean_proximity'] = codificador.fit_transform(Xtrain[['ocean_proximity']])\n",
        "Xtrain.info()\n"
      ],
      "execution_count": 0,
      "outputs": [
        {
          "output_type": "stream",
          "text": [
            "<class 'pandas.core.frame.DataFrame'>\n",
            "Int64Index: 14448 entries, 6345 to 4472\n",
            "Data columns (total 9 columns):\n",
            "longitude             14448 non-null float64\n",
            "latitude              14448 non-null float64\n",
            "housing_median_age    14448 non-null float64\n",
            "total_rooms           14448 non-null float64\n",
            "total_bedrooms        14448 non-null float64\n",
            "population            14448 non-null float64\n",
            "households            14448 non-null float64\n",
            "median_income         14448 non-null float64\n",
            "ocean_proximity       14448 non-null float64\n",
            "dtypes: float64(9)\n",
            "memory usage: 1.1 MB\n"
          ],
          "name": "stdout"
        }
      ]
    },
    {
      "cell_type": "markdown",
      "metadata": {
        "id": "t-Zi8SsoRV0I",
        "colab_type": "text"
      },
      "source": [
        "# **MEMMAP**\n",
        "\n",
        "### Calculo inercia con mini batch de kmeans"
      ]
    },
    {
      "cell_type": "code",
      "metadata": {
        "id": "C_-XuuuYRUc5",
        "colab_type": "code",
        "outputId": "2c7fd8f9-9321-4b6a-a79a-44ac3dcb24a1",
        "colab": {
          "base_uri": "https://localhost:8080/",
          "height": 84
        }
      },
      "source": [
        "from sklearn.cluster import MiniBatchKMeans\n",
        "from sklearn.cluster import KMeans\n",
        "\n",
        "\n",
        "minibatch_kmeans = MiniBatchKMeans(n_clusters=5, batch_size=50, random_state=42)\n",
        "\n",
        "minibatch_kmeans.fit(Xtrain)"
      ],
      "execution_count": 0,
      "outputs": [
        {
          "output_type": "execute_result",
          "data": {
            "text/plain": [
              "MiniBatchKMeans(batch_size=50, compute_labels=True, init='k-means++',\n",
              "                init_size=None, max_iter=100, max_no_improvement=10,\n",
              "                n_clusters=5, n_init=3, random_state=42,\n",
              "                reassignment_ratio=0.01, tol=0.0, verbose=0)"
            ]
          },
          "metadata": {
            "tags": []
          },
          "execution_count": 28
        }
      ]
    },
    {
      "cell_type": "code",
      "metadata": {
        "id": "JELLmjzxVuUL",
        "colab_type": "code",
        "colab": {}
      },
      "source": [
        "# from tempfile import mkdtemp\n",
        "# import os.path as path\n",
        "# filename = path.join(mkdtemp(), 'my_mnist.data')\n",
        "# X_mm     = np.memmap(filename, dtype='float32', mode='write', shape=Xtrain.shape)\n",
        "# X_mm[:]  = Xtrain\n",
        "\n",
        "# minibatch_kmeans = MiniBatchKMeans(n_clusters=10, batch_size=10, random_state=42)\n",
        "# minibatch_kmeans.fit(X_mm)"
      ],
      "execution_count": 0,
      "outputs": []
    },
    {
      "cell_type": "code",
      "metadata": {
        "id": "avZSk3RzVwR_",
        "colab_type": "code",
        "outputId": "c45adddf-006e-47a0-c41c-0ed5eb6f0a24",
        "colab": {
          "base_uri": "https://localhost:8080/",
          "height": 34
        }
      },
      "source": [
        "minibatch_kmeans.inertia_"
      ],
      "execution_count": 0,
      "outputs": [
        {
          "output_type": "execute_result",
          "data": {
            "text/plain": [
              "19318671724.91015"
            ]
          },
          "metadata": {
            "tags": []
          },
          "execution_count": 30
        }
      ]
    },
    {
      "cell_type": "markdown",
      "metadata": {
        "id": "96JPkXuKVgvy",
        "colab_type": "text"
      },
      "source": [
        "# **KMEANS**\n",
        "\n",
        "### Aplico algoritmo de clasificación no supervisada, kmeans"
      ]
    },
    {
      "cell_type": "code",
      "metadata": {
        "id": "NaoF1pD3RU0m",
        "colab_type": "code",
        "outputId": "da3125bf-b01c-4733-c4d0-d482b121d34e",
        "colab": {
          "base_uri": "https://localhost:8080/",
          "height": 268
        }
      },
      "source": [
        "kmeans_per_k = [KMeans(n_clusters=k, random_state=42).fit(Xtrain)\n",
        "                for k in range(1, 10)]\n",
        "inertias     = [model.inertia_ for model in kmeans_per_k]\n",
        "\n",
        "plt.figure(figsize=(8, 3.5))\n",
        "plt.plot(range(1, 10), inertias, \"bo-\")\n",
        "plt.xlabel(\"$k$\", fontsize=14)\n",
        "plt.ylabel(\"Inertia\", fontsize=14)\n",
        "plt.annotate('Elbow',\n",
        "             xy=(4, inertias[3]),\n",
        "             xytext=(0.55, 0.55),\n",
        "             textcoords='figure fraction',\n",
        "             fontsize=16,\n",
        "             arrowprops=dict(facecolor='black', shrink=0.1)\n",
        "            )\n",
        "# plt.axis([1, 8.5, 0, 1300])\n",
        "#save_fig(\"inertia_vs_k_plot\")\n",
        "plt.show()"
      ],
      "execution_count": 0,
      "outputs": [
        {
          "output_type": "display_data",
          "data": {
            "image/png": "[encoded data removed]",
            "text/plain": [
              "<Figure size 576x252 with 1 Axes>"
            ]
          },
          "metadata": {
            "tags": []
          }
        }
      ]
    },
    {
      "cell_type": "markdown",
      "metadata": {
        "id": "5-Fy37klX77z",
        "colab_type": "text"
      },
      "source": [
        "# **Silueta**\n",
        "\n",
        "### Reviso la calidad de la clasificación realizada anteriormente, a través de silhouette score "
      ]
    },
    {
      "cell_type": "code",
      "metadata": {
        "id": "MUviZG15X9r-",
        "colab_type": "code",
        "outputId": "5e8ee7cb-07c5-4493-a690-70fa9a92c77a",
        "colab": {
          "base_uri": "https://localhost:8080/",
          "height": 230
        }
      },
      "source": [
        "from sklearn.metrics import silhouette_score\n",
        "\n",
        "silhouette_scores = [silhouette_score(Xtrain, model.labels_)\n",
        "                     for model in kmeans_per_k[1:]]\n",
        "\n",
        "plt.figure(figsize=(8, 3))\n",
        "plt.plot(range(2, 10), silhouette_scores, \"bo-\")\n",
        "plt.xlabel(\"$k$\", fontsize=14)\n",
        "plt.ylabel(\"Silhouette score\", fontsize=14)\n",
        "# plt.axis([1.8, 8.5, 0.55, 0.7])\n",
        "#save_fig(\"silhouette_score_vs_k_plot\")\n",
        "plt.show()"
      ],
      "execution_count": 0,
      "outputs": [
        {
          "output_type": "display_data",
          "data": {
            "image/png": "[encoded data removed]",
            "text/plain": [
              "<Figure size 576x216 with 1 Axes>"
            ]
          },
          "metadata": {
            "tags": []
          }
        }
      ]
    },
    {
      "cell_type": "markdown",
      "metadata": {
        "id": "ox_oGj0BdEe5",
        "colab_type": "text"
      },
      "source": [
        "# **Estimación del óptimo de número de grupos en el Kmeans**\n",
        "\n",
        "### Evaluo con diferentes cantidades de reparticiones el algoritmo aplicado anteriormente"
      ]
    },
    {
      "cell_type": "code",
      "metadata": {
        "id": "88CE2J5eU3Ci",
        "colab_type": "code",
        "outputId": "3adb1ab4-0128-436f-b519-561bb7f73ea6",
        "colab": {
          "base_uri": "https://localhost:8080/",
          "height": 570
        }
      },
      "source": [
        "import matplotlib as mpl\n",
        "from sklearn.metrics import silhouette_samples\n",
        "from matplotlib.ticker import FixedLocator, FixedFormatter\n",
        "\n",
        "plt.figure(figsize=(11, 9))\n",
        "\n",
        "for k in (3, 4, 5, 6):\n",
        "    plt.subplot(2, 2, k - 2)\n",
        "    \n",
        "    y_pred                  = kmeans_per_k[k - 1].labels_\n",
        "    silhouette_coefficients = silhouette_samples(Xtrain, y_pred)\n",
        "\n",
        "    padding = len(Xtrain) // 30\n",
        "    pos     = padding\n",
        "    ticks   = []\n",
        "    for i in range(k):\n",
        "        coeffs = silhouette_coefficients[y_pred == i]\n",
        "        coeffs.sort()\n",
        "\n",
        "        color = mpl.cm.Spectral(i / k)\n",
        "        plt.fill_betweenx(np.arange(pos, pos + len(coeffs)), 0, coeffs,\n",
        "                          facecolor=color, edgecolor=color, alpha=0.7)\n",
        "        ticks.append(pos + len(coeffs) // 2)\n",
        "        pos += len(coeffs) + padding\n",
        "\n",
        "    plt.gca().yaxis.set_major_locator(FixedLocator(ticks))\n",
        "    plt.gca().yaxis.set_major_formatter(FixedFormatter(range(k)))\n",
        "    if k in (3, 5):\n",
        "        plt.ylabel(\"Cluster\")\n",
        "    \n",
        "    if k in (5, 6):\n",
        "        plt.gca().set_xticks([-0.1, 0, 0.2, 0.4, 0.6, 0.8, 1])\n",
        "        plt.xlabel(\"Silhouette Coefficient\")\n",
        "    else:\n",
        "        plt.tick_params(labelbottom=False)\n",
        "\n",
        "    plt.axvline(x=silhouette_scores[k - 2], color=\"red\", linestyle=\"--\")\n",
        "    plt.title(\"$k={}$\".format(k), fontsize=16)\n",
        "\n",
        "#save_fig(\"silhouette_analysis_plot\")\n",
        "plt.show()"
      ],
      "execution_count": 0,
      "outputs": [
        {
          "output_type": "display_data",
          "data": {
            "image/png": "[encoded data removed]",
            "text/plain": [
              "<Figure size 792x648 with 4 Axes>"
            ]
          },
          "metadata": {
            "tags": []
          }
        }
      ]
    }
  ]
}